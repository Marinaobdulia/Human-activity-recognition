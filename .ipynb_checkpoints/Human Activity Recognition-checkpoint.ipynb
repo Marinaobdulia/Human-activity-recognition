{
 "cells": [
  {
   "cell_type": "markdown",
   "metadata": {
    "colab_type": "text",
    "id": "dFrcusojqVW4"
   },
   "source": [
    "### Human Activity Recognition\n",
    "---\n",
    "The aim of this project was labelling different human activities upon the data register by 5 dimensional signals a 2-axes accelerometer and a 3-axes gyroscope.\n",
    "\n",
    "The set of activities recorded for labelling were:\n",
    "\n",
    "- running\n",
    "- walking\n",
    "- standing\n",
    "- sitting\n",
    "- lying\n",
    "\n",
    "The data provided for this assignment corresponded to 10 different people, 8 of them labelled and 2 of them unlabelled. Each of the recordings lasted less than 20 minutes."
   ]
  },
  {
   "cell_type": "code",
   "execution_count": 2,
   "metadata": {
    "colab": {},
    "colab_type": "code",
    "id": "j5CBT6iOvxEE"
   },
   "outputs": [
    {
     "ename": "ModuleNotFoundError",
     "evalue": "No module named 'google'",
     "output_type": "error",
     "traceback": [
      "\u001b[1;31m---------------------------------------------------------------------------\u001b[0m",
      "\u001b[1;31mModuleNotFoundError\u001b[0m                       Traceback (most recent call last)",
      "\u001b[1;32m<ipython-input-2-386315b6b687>\u001b[0m in \u001b[0;36m<module>\u001b[1;34m\u001b[0m\n\u001b[0;32m      3\u001b[0m \u001b[1;32mimport\u001b[0m \u001b[0mmatplotlib\u001b[0m\u001b[1;33m.\u001b[0m\u001b[0mpyplot\u001b[0m \u001b[1;32mas\u001b[0m \u001b[0mplt\u001b[0m\u001b[1;33m\u001b[0m\u001b[1;33m\u001b[0m\u001b[0m\n\u001b[0;32m      4\u001b[0m \u001b[1;32mimport\u001b[0m \u001b[0mos\u001b[0m\u001b[1;33m\u001b[0m\u001b[1;33m\u001b[0m\u001b[0m\n\u001b[1;32m----> 5\u001b[1;33m \u001b[1;32mfrom\u001b[0m \u001b[0mgoogle\u001b[0m\u001b[1;33m.\u001b[0m\u001b[0mcolab\u001b[0m \u001b[1;32mimport\u001b[0m \u001b[0mdrive\u001b[0m\u001b[1;33m\u001b[0m\u001b[1;33m\u001b[0m\u001b[0m\n\u001b[0m\u001b[0;32m      6\u001b[0m \u001b[1;32mfrom\u001b[0m \u001b[0mscipy\u001b[0m\u001b[1;33m.\u001b[0m\u001b[0mio\u001b[0m \u001b[1;32mimport\u001b[0m \u001b[0mloadmat\u001b[0m\u001b[1;33m,\u001b[0m \u001b[0msavemat\u001b[0m\u001b[1;33m\u001b[0m\u001b[1;33m\u001b[0m\u001b[0m\n\u001b[0;32m      7\u001b[0m \u001b[1;32mimport\u001b[0m \u001b[0mseaborn\u001b[0m \u001b[1;32mas\u001b[0m \u001b[0msns\u001b[0m\u001b[1;33m\u001b[0m\u001b[1;33m\u001b[0m\u001b[0m\n",
      "\u001b[1;31mModuleNotFoundError\u001b[0m: No module named 'google'"
     ]
    }
   ],
   "source": [
    "import numpy as np\n",
    "import time\n",
    "import matplotlib.pyplot as plt\n",
    "import os\n",
    "from scipy.io import loadmat, savemat\n",
    "import seaborn as sns\n",
    "import pandas as pd\n",
    "from scipy import stats\n",
    "from sklearn.preprocessing import RobustScaler, OneHotEncoder\n",
    "from keras.preprocessing import sequence\n",
    "import tensorflow as tf\n",
    "import keras\n",
    "from sklearn.metrics import confusion_matrix\n",
    "%matplotlib inline"
   ]
  },
  {
   "cell_type": "markdown",
   "metadata": {
    "colab_type": "text",
    "id": "TXQjPGRJvyni"
   },
   "source": [
    "#### Load the dataset.\n",
    "\n",
    "The labelled data was transferred into a pandas dataframe, which resulted into a matrix of 141,426 rows and 8 columns. Each row corresponded to a measurement performed every 0.0625s, as the recording frequency was 16 Hz. On the other hand, the first five columns corresponded to the sensors that recorded the movements and the remaining three accounted for the user number, the labelled activity and the timestamp."
   ]
  },
  {
   "cell_type": "code",
   "execution_count": null,
   "metadata": {
    "colab": {
     "base_uri": "https://localhost:8080/",
     "height": 34
    },
    "colab_type": "code",
    "executionInfo": {
     "elapsed": 647,
     "status": "ok",
     "timestamp": 1591609550119,
     "user": {
      "displayName": "MARINA OBDULIA MORENO GONZALEZ",
      "photoUrl": "https://lh3.googleusercontent.com/a-/AOh14GgycHa5ws4CiA4P3cs3Vj8tJbgxJ_5YpS79HlmuXQ=s64",
      "userId": "03845834528295038742"
     },
     "user_tz": -120
    },
    "id": "hQqctkrrqUI3",
    "outputId": "16848911-45a4-4862-f454-ae2c39c30816"
   },
   "outputs": [],
   "source": [
    "# Mount the drive folder\n",
    "drive.mount('/content/drive')\n",
    "os.chdir('/content/drive/My Drive/Colab Notebooks/DASS/Assignment 2')\n",
    "\n",
    "# Open the file and read in data\n",
    "data = loadmat('HAR_database.mat')"
   ]
  },
  {
   "cell_type": "code",
   "execution_count": null,
   "metadata": {
    "colab": {
     "base_uri": "https://localhost:8080/",
     "height": 289
    },
    "colab_type": "code",
    "executionInfo": {
     "elapsed": 558,
     "status": "ok",
     "timestamp": 1591609552702,
     "user": {
      "displayName": "MARINA OBDULIA MORENO GONZALEZ",
      "photoUrl": "https://lh3.googleusercontent.com/a-/AOh14GgycHa5ws4CiA4P3cs3Vj8tJbgxJ_5YpS79HlmuXQ=s64",
      "userId": "03845834528295038742"
     },
     "user_tz": -120
    },
    "id": "dj1hF5CMQfc0",
    "outputId": "cddc0bbf-4f27-4de9-eec3-93a6d87feeaa"
   },
   "outputs": [],
   "source": [
    "# Retrieve basic information about the raw dataset\n",
    "n_people = len(data['database_training'])\n",
    "n_sensors = len(data['database_training'][0][0])\n",
    "len_seq = [len(data['database_training'][i][0][0]) for i in range(n_people)]\n",
    "\n",
    "print(\"Information about the dataset\")\n",
    "print(\"==========================\")\n",
    "print('n_people: %i \\nn_sensors: %i '%(n_people, n_sensors))\n",
    "\n",
    "print(\"\\nSequence information\")\n",
    "print(\"==========================\")\n",
    "pd.Series(len_seq).describe()"
   ]
  },
  {
   "cell_type": "code",
   "execution_count": null,
   "metadata": {
    "colab": {},
    "colab_type": "code",
    "id": "IF20_W3dtk6S"
   },
   "outputs": [],
   "source": [
    "# Transform the data into a nice formatted dataset\n",
    "for i in range(n_people):\n",
    "  if i==0:\n",
    "    df = pd.DataFrame(data['database_training'][i][0].transpose(), columns=['acc_z', 'acc_XY', 'gy_x',\n",
    "                                                                            'gy_y', 'gy_z'])\n",
    "    df['User']=len(data['database_training'][i][1][0])*[0]\n",
    "    df['Activity']=data['database_training'][i][1][0]\n",
    "    df['Timestamp']=range(len(data['database_training'][i][1][0]))\n",
    "  else:\n",
    "    df2 = pd.DataFrame(data['database_training'][i][0].transpose(), columns=['acc_z', 'acc_XY', 'gy_x','gy_y', 'gy_z'])\n",
    "    df2['User']=len(data['database_training'][i][1][0])*[i]\n",
    "    df2['Activity']=data['database_training'][i][1][0]\n",
    "    df2['Timestamp']=range(len(data['database_training'][i][1][0]))\n",
    "    df = df.append(df2, ignore_index=True)"
   ]
  },
  {
   "cell_type": "code",
   "execution_count": null,
   "metadata": {
    "colab": {
     "base_uri": "https://localhost:8080/",
     "height": 419
    },
    "colab_type": "code",
    "executionInfo": {
     "elapsed": 650,
     "status": "ok",
     "timestamp": 1591609558379,
     "user": {
      "displayName": "MARINA OBDULIA MORENO GONZALEZ",
      "photoUrl": "https://lh3.googleusercontent.com/a-/AOh14GgycHa5ws4CiA4P3cs3Vj8tJbgxJ_5YpS79HlmuXQ=s64",
      "userId": "03845834528295038742"
     },
     "user_tz": -120
    },
    "id": "dUSOqKZdqifu",
    "outputId": "bd346b2c-0ffd-4c47-ed6e-6097d51f9882"
   },
   "outputs": [],
   "source": [
    "df"
   ]
  },
  {
   "cell_type": "code",
   "execution_count": null,
   "metadata": {
    "colab": {
     "base_uri": "https://localhost:8080/",
     "height": 295
    },
    "colab_type": "code",
    "executionInfo": {
     "elapsed": 659,
     "status": "ok",
     "timestamp": 1591609560869,
     "user": {
      "displayName": "MARINA OBDULIA MORENO GONZALEZ",
      "photoUrl": "https://lh3.googleusercontent.com/a-/AOh14GgycHa5ws4CiA4P3cs3Vj8tJbgxJ_5YpS79HlmuXQ=s64",
      "userId": "03845834528295038742"
     },
     "user_tz": -120
    },
    "id": "XK2FXhqIfXBg",
    "outputId": "5694e22d-5d0e-44bd-936c-cd5c0dc86fc8"
   },
   "outputs": [],
   "source": [
    "# Plot the distribution of the labelled activities\n",
    "sns.countplot(x = 'Activity',\n",
    "              data = df,\n",
    "              order = df.Activity.value_counts().index);\n",
    "\n",
    "plt.title(\"Activity recorded\");\n"
   ]
  },
  {
   "cell_type": "code",
   "execution_count": null,
   "metadata": {
    "colab": {
     "base_uri": "https://localhost:8080/",
     "height": 295
    },
    "colab_type": "code",
    "executionInfo": {
     "elapsed": 606,
     "status": "ok",
     "timestamp": 1591609563134,
     "user": {
      "displayName": "MARINA OBDULIA MORENO GONZALEZ",
      "photoUrl": "https://lh3.googleusercontent.com/a-/AOh14GgycHa5ws4CiA4P3cs3Vj8tJbgxJ_5YpS79HlmuXQ=s64",
      "userId": "03845834528295038742"
     },
     "user_tz": -120
    },
    "id": "_VnWexDOfsIp",
    "outputId": "b0b78cb3-63c0-4d19-f81c-ff92a26ea7dc"
   },
   "outputs": [],
   "source": [
    "# Plot the number of records per user\n",
    "sns.countplot(x = 'User',\n",
    "              data = df,\n",
    "              palette=[sns.color_palette()[0]],\n",
    "              order = df.User.value_counts().index);\n",
    "plt.title(\"Records per user\");\n"
   ]
  },
  {
   "cell_type": "code",
   "execution_count": null,
   "metadata": {
    "colab": {},
    "colab_type": "code",
    "id": "mHLvYF3uf74v"
   },
   "outputs": [],
   "source": [
    "# Function to plot the 5 sensor recordings given certain activity\n",
    "def plot_activity(activity, df):\n",
    "    data = df[df['Activity'] == activity][['acc_z', 'acc_XY', 'gy_x','gy_y', 'gy_z']][:200]\n",
    "    axis = data.plot(subplots=True, figsize=(16, 12), \n",
    "                     title=activity)\n",
    "    for ax in axis:\n",
    "        ax.legend(loc='lower left', bbox_to_anchor=(1.0, 0.5))"
   ]
  },
  {
   "cell_type": "code",
   "execution_count": null,
   "metadata": {
    "colab": {
     "base_uri": "https://localhost:8080/",
     "height": 733
    },
    "colab_type": "code",
    "executionInfo": {
     "elapsed": 2453,
     "status": "ok",
     "timestamp": 1591609569652,
     "user": {
      "displayName": "MARINA OBDULIA MORENO GONZALEZ",
      "photoUrl": "https://lh3.googleusercontent.com/a-/AOh14GgycHa5ws4CiA4P3cs3Vj8tJbgxJ_5YpS79HlmuXQ=s64",
      "userId": "03845834528295038742"
     },
     "user_tz": -120
    },
    "id": "bPv6wGtKgAIQ",
    "outputId": "3130fe46-bcb1-4ff8-a3cd-f7453b4ed183"
   },
   "outputs": [],
   "source": [
    "plot_activity(1, df);\n"
   ]
  },
  {
   "cell_type": "code",
   "execution_count": null,
   "metadata": {
    "colab": {
     "base_uri": "https://localhost:8080/",
     "height": 730
    },
    "colab_type": "code",
    "executionInfo": {
     "elapsed": 2494,
     "status": "ok",
     "timestamp": 1591608799232,
     "user": {
      "displayName": "MARINA OBDULIA MORENO GONZALEZ",
      "photoUrl": "https://lh3.googleusercontent.com/a-/AOh14GgycHa5ws4CiA4P3cs3Vj8tJbgxJ_5YpS79HlmuXQ=s64",
      "userId": "03845834528295038742"
     },
     "user_tz": -120
    },
    "id": "RY3u3ACy7r05",
    "outputId": "6386ec85-17c7-45d4-ae91-6bdefdfb22ab"
   },
   "outputs": [],
   "source": [
    "plot_activity(3, df);\n"
   ]
  },
  {
   "cell_type": "code",
   "execution_count": null,
   "metadata": {
    "colab": {
     "base_uri": "https://localhost:8080/",
     "height": 733
    },
    "colab_type": "code",
    "executionInfo": {
     "elapsed": 9065,
     "status": "ok",
     "timestamp": 1589462312785,
     "user": {
      "displayName": "MARINA OBDULIA MORENO GONZALEZ",
      "photoUrl": "https://lh3.googleusercontent.com/a-/AOh14GgycHa5ws4CiA4P3cs3Vj8tJbgxJ_5YpS79HlmuXQ=s64",
      "userId": "03845834528295038742"
     },
     "user_tz": -120
    },
    "id": "MRp5IZH9h-lN",
    "outputId": "4446a946-66b8-4020-a33c-c673b9ecb28d"
   },
   "outputs": [],
   "source": [
    "plot_activity(5, df);\n"
   ]
  },
  {
   "cell_type": "markdown",
   "metadata": {
    "colab_type": "text",
    "id": "__j2kp51VCha"
   },
   "source": [
    "### Pre-processing.\n",
    "\n",
    "This section consists on four procedurals used to clear out the data and to set it ready for fitting it to the model. Those are:\n",
    "\n",
    "- Splitting the data into train and test sets.\n",
    "- Scaling the sensor data.\n",
    "- Creating sequences.\n",
    "- One-hot encoding the categorical variables."
   ]
  },
  {
   "cell_type": "code",
   "execution_count": null,
   "metadata": {
    "colab": {},
    "colab_type": "code",
    "id": "tPEVmACJpAqt"
   },
   "outputs": [],
   "source": [
    "# Split the dataset into train and test sets\n",
    "df_train = df[df['User'] <= 5]\n",
    "df_test = df[df['User'] > 5]"
   ]
  },
  {
   "cell_type": "markdown",
   "metadata": {},
   "source": [
    "Data recorded by the sensors was scaled using a scaler robust to statistical outliers. The motivation to scale the data is to avoid features with larger values to impact the algorithm with a higher weight although its relevance is similar to features with smaller values."
   ]
  },
  {
   "cell_type": "code",
   "execution_count": null,
   "metadata": {
    "colab": {
     "base_uri": "https://localhost:8080/",
     "height": 221
    },
    "colab_type": "code",
    "executionInfo": {
     "elapsed": 530,
     "status": "ok",
     "timestamp": 1591609580816,
     "user": {
      "displayName": "MARINA OBDULIA MORENO GONZALEZ",
      "photoUrl": "https://lh3.googleusercontent.com/a-/AOh14GgycHa5ws4CiA4P3cs3Vj8tJbgxJ_5YpS79HlmuXQ=s64",
      "userId": "03845834528295038742"
     },
     "user_tz": -120
    },
    "id": "Ft0YwzQcqGzc",
    "outputId": "695042ca-18f6-4f2d-89db-f48f626ced11"
   },
   "outputs": [],
   "source": [
    "#Scale the sensor data\n",
    "scale_columns = ['acc_z', 'acc_XY', 'gy_x','gy_y', 'gy_z']\n",
    "\n",
    "scaler = RobustScaler()\n",
    "\n",
    "scaler = scaler.fit(df_train[scale_columns])\n",
    "\n",
    "df_train.loc[:, scale_columns] = scaler.transform(\n",
    "  df_train[scale_columns].to_numpy()\n",
    ")\n",
    "\n",
    "df_test.loc[:, scale_columns] = scaler.transform(\n",
    "  df_test[scale_columns].to_numpy()\n",
    ")"
   ]
  },
  {
   "cell_type": "code",
   "execution_count": null,
   "metadata": {
    "colab": {},
    "colab_type": "code",
    "id": "39YUeID5x8BL"
   },
   "outputs": [],
   "source": [
    "# Function to create sequences\n",
    "def create_dataset(X, y, time_steps=1, step=1):\n",
    "    Xs, ys = [], []\n",
    "    for i in range(0, len(X) - time_steps, step):\n",
    "        v = X.iloc[i:(i + time_steps)].values\n",
    "        labels = y.iloc[i: i + time_steps]\n",
    "        Xs.append(v)\n",
    "        ys.append(stats.mode(labels)[0][0])\n",
    "    return np.array(Xs), np.array(ys).reshape(-1, 1)"
   ]
  },
  {
   "cell_type": "markdown",
   "metadata": {},
   "source": [
    "Sequences were created so the model was able to handle the data more easily. Thus, the raw data was summarized into sequences of 1 timestep, were each step was worth 10 measurements. The labelling for every step was created upon the mode of the previous mentioned measurements. The remaining sequences had the shape (12382, 1, 5), which can be understood as a total of 12,382 sequences, each 1 timestep long, containing the 5 sensor measurements with its corresponding label."
   ]
  },
  {
   "cell_type": "code",
   "execution_count": null,
   "metadata": {
    "colab": {},
    "colab_type": "code",
    "id": "jWWBO_weyA-5"
   },
   "outputs": [],
   "source": [
    "# Create sequences from the train and test datasets\n",
    "TIME_STEPS = 1\n",
    "STEP = 10\n",
    "\n",
    "X_train, y_train = create_dataset(\n",
    "    df_train[['acc_z', 'acc_XY', 'gy_x','gy_y', 'gy_z']],\n",
    "    df_train.Activity,\n",
    "    TIME_STEPS,\n",
    "    STEP\n",
    ")\n",
    "\n",
    "X_test, y_test = create_dataset(\n",
    "    df_test[['acc_z', 'acc_XY', 'gy_x','gy_y', 'gy_z']],\n",
    "    df_test.Activity,\n",
    "    TIME_STEPS,\n",
    "    STEP\n",
    ")"
   ]
  },
  {
   "cell_type": "code",
   "execution_count": null,
   "metadata": {
    "colab": {
     "base_uri": "https://localhost:8080/",
     "height": 34
    },
    "colab_type": "code",
    "executionInfo": {
     "elapsed": 665,
     "status": "ok",
     "timestamp": 1591608827034,
     "user": {
      "displayName": "MARINA OBDULIA MORENO GONZALEZ",
      "photoUrl": "https://lh3.googleusercontent.com/a-/AOh14GgycHa5ws4CiA4P3cs3Vj8tJbgxJ_5YpS79HlmuXQ=s64",
      "userId": "03845834528295038742"
     },
     "user_tz": -120
    },
    "id": "agQAkMChyiXw",
    "outputId": "df3c171b-f104-44c5-f0b9-7c3a59836163"
   },
   "outputs": [],
   "source": [
    "print(X_train.shape, y_train.shape)"
   ]
  },
  {
   "cell_type": "code",
   "execution_count": null,
   "metadata": {
    "colab": {},
    "colab_type": "code",
    "id": "jVTda_E8ypVY"
   },
   "outputs": [],
   "source": [
    "# One-hot encode the labelled activities\n",
    "enc = OneHotEncoder(handle_unknown='ignore', sparse=False)\n",
    "\n",
    "enc = enc.fit(y_train)\n",
    "\n",
    "y_train = enc.transform(y_train)\n",
    "y_test = enc.transform(y_test)"
   ]
  },
  {
   "cell_type": "markdown",
   "metadata": {
    "colab_type": "text",
    "id": "VbEHWfyJVIXj"
   },
   "source": [
    "### Create and fit the model.\n",
    "\n",
    "Long Short Term Memory is an algorithm used on the deep learning field to classify time series data, as the one used on this assignment. The difficulty of this problem relies on the length of the sequences and variety of possible inputs the model can receive over time. Therefore, it is necessary for the model to learn the long-term dependencies between the coordinates given by the input sequence.\n",
    "\n",
    "The main difference between regular neural networks and this model is that it has feedback connections, allowing it to remember what has been previously learnt. That is, maintaining state memory across long sequences. Instead of regular neurons, LSTM networks include a memory cells which let them learn long-term dependencies. These cells are formed by a set of gates that control when information is output, input and forgotten.\n",
    "\n",
    "Moreover, this procedure simplified the feature extraction, dimensionality reduction and classification steps into a single command. Just by training the neural network, the model will have retrieved the features, learnt what makes the difference and classified the input upon this knowledge.\n",
    "\n",
    "The model used for classifying the sequences was a bidirectional LSTM, accompanied by a dropout layer (which helps avoiding overfitting) and two activation layers (which introduce non linearity to the output). The model was fitted to 20 epochs, each trained to 11,143 samples and validated onto 1,239 other ones.\n"
   ]
  },
  {
   "cell_type": "code",
   "execution_count": null,
   "metadata": {
    "colab": {},
    "colab_type": "code",
    "id": "LHvL4-NfpcDW"
   },
   "outputs": [],
   "source": [
    "# Create the LSTM model with keras\n",
    "model = keras.Sequential()\n",
    "model.add(\n",
    "    keras.layers.Bidirectional(\n",
    "      keras.layers.LSTM(\n",
    "          units=128,\n",
    "          input_shape=[X_train.shape[1], X_train.shape[2]]\n",
    "      )\n",
    "    )\n",
    ")\n",
    "model.add(keras.layers.Dropout(rate=0.5))\n",
    "model.add(keras.layers.Dense(units=128, activation='relu'))\n",
    "model.add(keras.layers.Dense(y_train.shape[1], activation='softmax'))\n",
    "\n",
    "model.compile(\n",
    "  loss='categorical_crossentropy',\n",
    "  optimizer='adam',\n",
    "  metrics=['acc']\n",
    ")\n"
   ]
  },
  {
   "cell_type": "code",
   "execution_count": null,
   "metadata": {
    "colab": {
     "base_uri": "https://localhost:8080/",
     "height": 714
    },
    "colab_type": "code",
    "executionInfo": {
     "elapsed": 41290,
     "status": "ok",
     "timestamp": 1591609639694,
     "user": {
      "displayName": "MARINA OBDULIA MORENO GONZALEZ",
      "photoUrl": "https://lh3.googleusercontent.com/a-/AOh14GgycHa5ws4CiA4P3cs3Vj8tJbgxJ_5YpS79HlmuXQ=s64",
      "userId": "03845834528295038742"
     },
     "user_tz": -120
    },
    "id": "HbITi6FypfjR",
    "outputId": "df0e1977-ef65-4857-83a4-cc9eb0f39228"
   },
   "outputs": [],
   "source": [
    "# Fit the data to the model\n",
    "history = model.fit(\n",
    "    X_train, y_train,\n",
    "    epochs=20,\n",
    "    batch_size=32,\n",
    "    validation_split=0.1,\n",
    "    shuffle=False\n",
    ")"
   ]
  },
  {
   "cell_type": "markdown",
   "metadata": {
    "colab_type": "text",
    "id": "SoT-V-NuVN7f"
   },
   "source": [
    "### Evaluate the model.\n",
    "The aim of this section was to evaluate the model in terms of overfitting and accuracy.The model showed no relevant overfitting and an accuracy of 83.1%.\n",
    "\n",
    "Moreover, there was created a confusion matrix in order to asses the labelling of each of the classes. It showed the most misclassified class was sitting (note the index of the classes should sum one to match the integer classes)."
   ]
  },
  {
   "cell_type": "code",
   "execution_count": null,
   "metadata": {
    "colab": {
     "base_uri": "https://localhost:8080/",
     "height": 573
    },
    "colab_type": "code",
    "executionInfo": {
     "elapsed": 1303,
     "status": "ok",
     "timestamp": 1591609641014,
     "user": {
      "displayName": "MARINA OBDULIA MORENO GONZALEZ",
      "photoUrl": "https://lh3.googleusercontent.com/a-/AOh14GgycHa5ws4CiA4P3cs3Vj8tJbgxJ_5YpS79HlmuXQ=s64",
      "userId": "03845834528295038742"
     },
     "user_tz": -120
    },
    "id": "HD9FHwyX5ZMq",
    "outputId": "9651e6a0-fd04-493c-cc6b-165b7707cbb1"
   },
   "outputs": [],
   "source": [
    "# summarize history for accuracy\n",
    "plt.plot(history.history['acc'])\n",
    "plt.plot(history.history['val_acc'])\n",
    "plt.title('model accuracy')\n",
    "plt.ylabel('accuracy')\n",
    "plt.xlabel('epoch')\n",
    "plt.legend(['train', 'test'], loc='upper left')\n",
    "plt.show()\n",
    "# summarize history for loss\n",
    "plt.plot(history.history['loss'])\n",
    "plt.plot(history.history['val_loss'])\n",
    "plt.title('model loss')\n",
    "plt.ylabel('loss')\n",
    "plt.xlabel('epoch')\n",
    "plt.legend(['train', 'test'], loc='upper left')\n",
    "plt.show()"
   ]
  },
  {
   "cell_type": "code",
   "execution_count": null,
   "metadata": {
    "colab": {
     "base_uri": "https://localhost:8080/",
     "height": 51
    },
    "colab_type": "code",
    "executionInfo": {
     "elapsed": 1284,
     "status": "ok",
     "timestamp": 1591609641016,
     "user": {
      "displayName": "MARINA OBDULIA MORENO GONZALEZ",
      "photoUrl": "https://lh3.googleusercontent.com/a-/AOh14GgycHa5ws4CiA4P3cs3Vj8tJbgxJ_5YpS79HlmuXQ=s64",
      "userId": "03845834528295038742"
     },
     "user_tz": -120
    },
    "id": "UV3RybuF1ruo",
    "outputId": "fc554e7f-4606-4cd3-f291-de701177bfae"
   },
   "outputs": [],
   "source": [
    "# Evaluate the accuracy on the test set\n",
    "model.evaluate(x=X_test,y=y_test)"
   ]
  },
  {
   "cell_type": "code",
   "execution_count": null,
   "metadata": {
    "colab": {
     "base_uri": "https://localhost:8080/",
     "height": 145
    },
    "colab_type": "code",
    "executionInfo": {
     "elapsed": 657,
     "status": "ok",
     "timestamp": 1591609653944,
     "user": {
      "displayName": "MARINA OBDULIA MORENO GONZALEZ",
      "photoUrl": "https://lh3.googleusercontent.com/a-/AOh14GgycHa5ws4CiA4P3cs3Vj8tJbgxJ_5YpS79HlmuXQ=s64",
      "userId": "03845834528295038742"
     },
     "user_tz": -120
    },
    "id": "q3ZuCI64uPpk",
    "outputId": "cfc1a4f8-e5b3-4b5f-fdd8-dc9afb70be7d"
   },
   "outputs": [],
   "source": [
    "# Create confusion matrix\n",
    "y_pred = model.predict(X_test)\n",
    "y_test = y_test.argmax(1)\n",
    "y_pred= y_pred.argmax(1)\n",
    "\n",
    "import seaborn as sns\n",
    "conf = confusion_matrix(y_test, y_pred)\n",
    "cm = sns.light_palette(\"blue\", as_cmap=True)\n",
    "x=pd.DataFrame(conf)\n",
    "x=x.style.background_gradient(cmap=cm)\n",
    "display(x)"
   ]
  },
  {
   "cell_type": "markdown",
   "metadata": {
    "colab_type": "text",
    "id": "1Tafsw7qU12I"
   },
   "source": [
    "### Predict the unlabelled sequences.\n",
    "\n",
    "Finally, the unlabelled data was prepocessed as the prior data set and inputed to trained model in order to predict the missing labels."
   ]
  },
  {
   "cell_type": "code",
   "execution_count": null,
   "metadata": {
    "colab": {},
    "colab_type": "code",
    "id": "-RSzlF7S0D9t"
   },
   "outputs": [],
   "source": [
    "# Reformat the unlabelled raw data\n",
    "n_people = len(data['database_test'])\n",
    "for i in range(n_people):\n",
    "  if i==0:\n",
    "    df_pred = pd.DataFrame(data['database_test'][i][0].transpose(), columns=['acc_z', 'acc_XY', 'gy_x',\n",
    "                                                                            'gy_y', 'gy_z'])\n",
    "    df_pred['User']=len(data['database_test'][i][0][0])*[0]\n",
    "    df_pred['Timestamp']=range(len(data['database_test'][i][0][0]))\n",
    "    df_pred['Activity']=len(data['database_test'][i][0][0])*[0]\n",
    "  else:\n",
    "    df2 = pd.DataFrame(data['database_test'][i][0].transpose(), columns=['acc_z', 'acc_XY', 'gy_x','gy_y', 'gy_z'])\n",
    "    df2['User']=len(data['database_test'][i][0][0])*[i]\n",
    "    df2['Timestamp']=range(len(data['database_test'][i][0][0]))\n",
    "    df2['Activity']=len(data['database_test'][i][0][0])*[0]"
   ]
  },
  {
   "cell_type": "code",
   "execution_count": null,
   "metadata": {
    "colab": {
     "base_uri": "https://localhost:8080/",
     "height": 34
    },
    "colab_type": "code",
    "executionInfo": {
     "elapsed": 557,
     "status": "ok",
     "timestamp": 1591609661193,
     "user": {
      "displayName": "MARINA OBDULIA MORENO GONZALEZ",
      "photoUrl": "https://lh3.googleusercontent.com/a-/AOh14GgycHa5ws4CiA4P3cs3Vj8tJbgxJ_5YpS79HlmuXQ=s64",
      "userId": "03845834528295038742"
     },
     "user_tz": -120
    },
    "id": "Cf2kYU6lP9cO",
    "outputId": "d5fda090-a5d7-43a5-f9e7-9174ff3c76c5"
   },
   "outputs": [],
   "source": [
    "df_pred.shape"
   ]
  },
  {
   "cell_type": "code",
   "execution_count": null,
   "metadata": {
    "colab": {
     "base_uri": "https://localhost:8080/",
     "height": 34
    },
    "colab_type": "code",
    "executionInfo": {
     "elapsed": 1488,
     "status": "ok",
     "timestamp": 1591609737159,
     "user": {
      "displayName": "MARINA OBDULIA MORENO GONZALEZ",
      "photoUrl": "https://lh3.googleusercontent.com/a-/AOh14GgycHa5ws4CiA4P3cs3Vj8tJbgxJ_5YpS79HlmuXQ=s64",
      "userId": "03845834528295038742"
     },
     "user_tz": -120
    },
    "id": "hc5linHHVQ8D",
    "outputId": "b9469e39-230b-4b6b-e02d-55157389d59d"
   },
   "outputs": [],
   "source": [
    "df2.shape"
   ]
  },
  {
   "cell_type": "code",
   "execution_count": null,
   "metadata": {
    "colab": {},
    "colab_type": "code",
    "id": "eWvPpGKUEaKW"
   },
   "outputs": [],
   "source": [
    "# Scale the sensor information data\n",
    "\n",
    "df_pred.loc[:, scale_columns] = scaler.transform(\n",
    "  df_pred[scale_columns].to_numpy()\n",
    ")\n",
    "\n",
    "df2.loc[:, scale_columns] = scaler.transform(\n",
    "  df2[scale_columns].to_numpy()\n",
    ")\n"
   ]
  },
  {
   "cell_type": "code",
   "execution_count": null,
   "metadata": {
    "colab": {},
    "colab_type": "code",
    "id": "PoRptaZjKgrt"
   },
   "outputs": [],
   "source": [
    "# Create a sequence with the unlabelled dataframe\n",
    "\n",
    "# Function to create sequences\n",
    "def create_dataset(X, y, time_steps=1, step=1):\n",
    "    Xs, ys = [], []\n",
    "    for i in range(0, len(X)):\n",
    "        v = X.iloc[i:(i + time_steps)].values\n",
    "        labels = y.iloc[i: i + time_steps]\n",
    "        Xs.append(v)\n",
    "        ys.append(stats.mode(labels)[0][0])\n",
    "    return np.array(Xs), np.array(ys).reshape(-1, 1)\n",
    "\n",
    "\n",
    "TIME_STEPS = 1\n",
    "STEP = 1\n",
    "\n",
    "X_topred, y_topred = create_dataset(\n",
    "    df_pred[['acc_z', 'acc_XY', 'gy_x','gy_y', 'gy_z']],\n",
    "    df_pred.Activity,\n",
    "    TIME_STEPS,\n",
    "    STEP\n",
    ")\n",
    "\n",
    "\n",
    "X_topred2, y_topred2 = create_dataset(\n",
    "    df2[['acc_z', 'acc_XY', 'gy_x','gy_y', 'gy_z']],\n",
    "    df2.Activity,\n",
    "    TIME_STEPS,\n",
    "    STEP\n",
    ")"
   ]
  },
  {
   "cell_type": "code",
   "execution_count": null,
   "metadata": {
    "colab": {
     "base_uri": "https://localhost:8080/",
     "height": 34
    },
    "colab_type": "code",
    "executionInfo": {
     "elapsed": 593,
     "status": "ok",
     "timestamp": 1591609685648,
     "user": {
      "displayName": "MARINA OBDULIA MORENO GONZALEZ",
      "photoUrl": "https://lh3.googleusercontent.com/a-/AOh14GgycHa5ws4CiA4P3cs3Vj8tJbgxJ_5YpS79HlmuXQ=s64",
      "userId": "03845834528295038742"
     },
     "user_tz": -120
    },
    "id": "1tM-Qu4WQSU1",
    "outputId": "115a5f0c-e779-4043-c19d-b38fa79032cf"
   },
   "outputs": [],
   "source": [
    "X_topred.shape"
   ]
  },
  {
   "cell_type": "code",
   "execution_count": null,
   "metadata": {
    "colab": {
     "base_uri": "https://localhost:8080/",
     "height": 34
    },
    "colab_type": "code",
    "executionInfo": {
     "elapsed": 595,
     "status": "ok",
     "timestamp": 1591609688399,
     "user": {
      "displayName": "MARINA OBDULIA MORENO GONZALEZ",
      "photoUrl": "https://lh3.googleusercontent.com/a-/AOh14GgycHa5ws4CiA4P3cs3Vj8tJbgxJ_5YpS79HlmuXQ=s64",
      "userId": "03845834528295038742"
     },
     "user_tz": -120
    },
    "id": "uqk7jcKek_-A",
    "outputId": "e760a976-73d5-474f-add6-d91df50b10b8"
   },
   "outputs": [],
   "source": [
    "X_topred2.shape"
   ]
  },
  {
   "cell_type": "code",
   "execution_count": null,
   "metadata": {
    "colab": {},
    "colab_type": "code",
    "id": "KWVfB9yYLK3g"
   },
   "outputs": [],
   "source": [
    "# Predict the features labelling using the model\n",
    "y_topred = model.predict(X_topred)\n",
    "y_topred = y_topred.argmax(1)\n",
    "\n",
    "\n",
    "y_topred2 = model.predict(X_topred2)\n",
    "y_topred2 = y_topred2.argmax(1)"
   ]
  },
  {
   "cell_type": "code",
   "execution_count": null,
   "metadata": {
    "colab": {
     "base_uri": "https://localhost:8080/",
     "height": 34
    },
    "colab_type": "code",
    "executionInfo": {
     "elapsed": 582,
     "status": "ok",
     "timestamp": 1591609704951,
     "user": {
      "displayName": "MARINA OBDULIA MORENO GONZALEZ",
      "photoUrl": "https://lh3.googleusercontent.com/a-/AOh14GgycHa5ws4CiA4P3cs3Vj8tJbgxJ_5YpS79HlmuXQ=s64",
      "userId": "03845834528295038742"
     },
     "user_tz": -120
    },
    "id": "GeC-IPksVKg5",
    "outputId": "f6dca197-8a3f-4793-eb18-a4af01c0e949"
   },
   "outputs": [],
   "source": [
    "len(y_topred)"
   ]
  },
  {
   "cell_type": "code",
   "execution_count": null,
   "metadata": {
    "colab": {
     "base_uri": "https://localhost:8080/",
     "height": 34
    },
    "colab_type": "code",
    "executionInfo": {
     "elapsed": 531,
     "status": "ok",
     "timestamp": 1591609752238,
     "user": {
      "displayName": "MARINA OBDULIA MORENO GONZALEZ",
      "photoUrl": "https://lh3.googleusercontent.com/a-/AOh14GgycHa5ws4CiA4P3cs3Vj8tJbgxJ_5YpS79HlmuXQ=s64",
      "userId": "03845834528295038742"
     },
     "user_tz": -120
    },
    "id": "QRoYcaw5VNEe",
    "outputId": "7f15ba18-b3ab-4023-e1d1-4763b460dee3"
   },
   "outputs": [],
   "source": [
    "len(y_topred2)"
   ]
  },
  {
   "cell_type": "code",
   "execution_count": null,
   "metadata": {
    "colab": {},
    "colab_type": "code",
    "id": "OkvSEOSOSRHs"
   },
   "outputs": [],
   "source": [
    "y_topred = y_topred + 1\n",
    "y_topred2 = y_topred2 + 1"
   ]
  },
  {
   "cell_type": "code",
   "execution_count": null,
   "metadata": {
    "colab": {},
    "colab_type": "code",
    "id": "iZquiBPNlGFg"
   },
   "outputs": [],
   "source": [
    "savemat('predictions2.mat', {'user_1': y_topred, 'user_2': y_topred2})"
   ]
  }
 ],
 "metadata": {
  "accelerator": "TPU",
  "colab": {
   "authorship_tag": "ABX9TyOn5wQnTgzXU+3TjneGDBQ1",
   "collapsed_sections": [],
   "name": "Assignment2.ipynb",
   "provenance": []
  },
  "kernelspec": {
   "display_name": "Python 3",
   "language": "python",
   "name": "python3"
  },
  "language_info": {
   "codemirror_mode": {
    "name": "ipython",
    "version": 3
   },
   "file_extension": ".py",
   "mimetype": "text/x-python",
   "name": "python",
   "nbconvert_exporter": "python",
   "pygments_lexer": "ipython3",
   "version": "3.8.5"
  }
 },
 "nbformat": 4,
 "nbformat_minor": 1
}
